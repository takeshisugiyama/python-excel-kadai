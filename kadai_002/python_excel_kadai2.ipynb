{
  "nbformat": 4,
  "nbformat_minor": 0,
  "metadata": {
    "colab": {
      "provenance": []
    },
    "kernelspec": {
      "name": "python3",
      "display_name": "Python 3"
    },
    "language_info": {
      "name": "python"
    }
  },
  "cells": [
    {
      "cell_type": "code",
      "execution_count": 3,
      "metadata": {
        "colab": {
          "base_uri": "https://localhost:8080/"
        },
        "id": "PvXG8cUZDZCE",
        "outputId": "6f334839-610b-4d67-9954-b1a85321a4ad"
      },
      "outputs": [
        {
          "output_type": "stream",
          "name": "stdout",
          "text": [
            "業績.xlsxを作成しました！\n"
          ]
        }
      ],
      "source": [
        "import pandas as pd\n",
        "\n",
        "#データの作成\n",
        "data = {\n",
        "    \"日付\":[\"2024-12-17\",\"2024-12-18\",\"2024-12-19\",\"2024-12-20\",\"2024-12-21\"],\n",
        "    \"社員名\":[\"山田\",\"佐藤\",\"鈴木\",\"田中\",\"高橋\"],\n",
        "    \"売上\":[100,200,150,300,250],\n",
        "    \"部門\":[\"メーカー\",\"代理店\",\"メーカー\",\"商社\",\"代理店\"]\n",
        "}\n",
        "\n",
        "\n",
        "#データフレームの作成\n",
        "df=pd.DataFrame(data)\n",
        "\n",
        "#売り上げの平均値を計算し、新しい列「平均売上」を追加\n",
        "average_sales=df[\"売上\"].mean()\n",
        "df[\"平均売上\"]=average_sales\n",
        "\n",
        "#業績ランクを算出する関数\n",
        "def performance_rank(sales):\n",
        "  if sales >= 250:\n",
        "    return \"A\"\n",
        "  elif sales >= 150:\n",
        "    return \"B\"\n",
        "  else:\n",
        "    return \"C\"\n",
        "\n",
        "#各社員の売り上げに基づいて業績ランクを付与\n",
        "df[\"業績ランク\"]=df[\"売上\"].apply(performance_rank)\n",
        "\n",
        "#結果を新しいExcelファイルに書き出す\n",
        "output_file=\"業績.xlsx\"\n",
        "df.to_excel(output_file, index=False)\n",
        "\n",
        "print(f\"{output_file}を作成しました！\")\n",
        "\n",
        "\n",
        "\n",
        "\n",
        "\n",
        "\n",
        "\n"
      ]
    }
  ]
}