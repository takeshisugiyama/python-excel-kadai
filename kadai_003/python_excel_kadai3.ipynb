{
  "nbformat": 4,
  "nbformat_minor": 0,
  "metadata": {
    "colab": {
      "provenance": []
    },
    "kernelspec": {
      "name": "python3",
      "display_name": "Python 3"
    },
    "language_info": {
      "name": "python"
    }
  },
  "cells": [
    {
      "cell_type": "code",
      "execution_count": 1,
      "metadata": {
        "colab": {
          "base_uri": "https://localhost:8080/"
        },
        "id": "K3qLyT8cBqZE",
        "outputId": "d2f66c18-8b8d-417d-e2f0-0d03ca172564"
      },
      "outputs": [
        {
          "output_type": "stream",
          "name": "stdout",
          "text": [
            "Requirement already satisfied: pandas in /usr/local/lib/python3.10/dist-packages (2.2.2)\n",
            "Requirement already satisfied: openpyxl in /usr/local/lib/python3.10/dist-packages (3.1.5)\n",
            "Requirement already satisfied: numpy>=1.22.4 in /usr/local/lib/python3.10/dist-packages (from pandas) (1.26.4)\n",
            "Requirement already satisfied: python-dateutil>=2.8.2 in /usr/local/lib/python3.10/dist-packages (from pandas) (2.8.2)\n",
            "Requirement already satisfied: pytz>=2020.1 in /usr/local/lib/python3.10/dist-packages (from pandas) (2024.2)\n",
            "Requirement already satisfied: tzdata>=2022.7 in /usr/local/lib/python3.10/dist-packages (from pandas) (2024.2)\n",
            "Requirement already satisfied: et-xmlfile in /usr/local/lib/python3.10/dist-packages (from openpyxl) (2.0.0)\n",
            "Requirement already satisfied: six>=1.5 in /usr/local/lib/python3.10/dist-packages (from python-dateutil>=2.8.2->pandas) (1.17.0)\n"
          ]
        }
      ],
      "source": [
        "!pip install pandas openpyxl\n",
        "\n"
      ]
    },
    {
      "cell_type": "code",
      "source": [
        "import pandas as pd\n",
        "from openpyxl import load_workbook\n",
        "from openpyxl.styles import PatternFill\n",
        "\n",
        "#Step1:Excelファイルの読み込み\n",
        "file_2022=\"2022_年間売上表.xlsx\"\n",
        "file_2023=\"2023_年間売上表.xlsx\"\n",
        "\n",
        "\n",
        "#データの読み込み\n",
        "df_2022=pd.read_excel(file_2022,sheet_name=\"Sheet1\")\n",
        "df_2023=pd.read_excel(file_2023,sheet_name=\"Sheet1\")\n",
        "\n",
        "#データの連結\n",
        "df_all = pd.concat([df_2022,df_2023],ignore_index=True)\n",
        "\n",
        "#データの集計\n",
        "df_grouped = df_all.groupby(['商品','売上年'], as_index=False)[\"金額（千円）\"].sum()\n",
        "\n",
        "#集計結果を新しいExcelに書き込み\n",
        "output_file = \"売上集計表.xlsx\"\n",
        "df_grouped.to_excel(output_file,index=False,sheet_name=\"Sheet1\")\n",
        "\n",
        "#Step4:ヘッダーの書式変更\n",
        "#Excelファイルをロード\n",
        "wb = load_workbook(output_file)\n",
        "ws = wb.active\n",
        "\n",
        "\n",
        "#ヘッダーの書式を設定\n",
        "header_fill= PatternFill(start_color=\"F2F2F2\",end_color=\"F2F2F2\",fill_type=\"solid\")\n",
        "for cell in ws[1]:#ヘッダー行のすべてのセル\n",
        "  cell.fill = header_fill\n",
        "\n",
        "#保存\n",
        "wb.save(output_file)\n",
        "print(f\"売上集計表を作成しました:{output_file}\")\n"
      ],
      "metadata": {
        "colab": {
          "base_uri": "https://localhost:8080/"
        },
        "id": "fez-xOYqF1Tv",
        "outputId": "5a6f8acf-7251-466f-de6f-60e1c84f9385"
      },
      "execution_count": 4,
      "outputs": [
        {
          "output_type": "stream",
          "name": "stdout",
          "text": [
            "売上集計表を作成しました:売上集計表.xlsx\n"
          ]
        }
      ]
    }
  ]
}