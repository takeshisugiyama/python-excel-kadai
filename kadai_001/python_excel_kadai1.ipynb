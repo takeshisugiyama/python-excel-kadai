{
  "nbformat": 4,
  "nbformat_minor": 0,
  "metadata": {
    "colab": {
      "provenance": []
    },
    "kernelspec": {
      "name": "python3",
      "display_name": "Python 3"
    },
    "language_info": {
      "name": "python"
    }
  },
  "cells": [
    {
      "cell_type": "code",
      "execution_count": null,
      "metadata": {
        "colab": {
          "base_uri": "https://localhost:8080/"
        },
        "id": "1dehkbo49H3R",
        "outputId": "c7c45e3f-f1b6-48cd-f552-a7b69aabb3d8"
      },
      "outputs": [
        {
          "output_type": "stream",
          "name": "stdout",
          "text": [
            "Requirement already satisfied: openpyxl in /usr/local/lib/python3.10/dist-packages (3.1.5)\n",
            "Requirement already satisfied: et-xmlfile in /usr/local/lib/python3.10/dist-packages (from openpyxl) (2.0.0)\n"
          ]
        }
      ],
      "source": [
        "pip install openpyxl"
      ]
    },
    {
      "cell_type": "code",
      "source": [
        "from random import betavariate\n",
        "from inspect import isdatadescriptor\n",
        "from openpyxl import Workbook\n",
        "from openpyxl.styles import Alignment, Border, Side, Font\n",
        "from datetime import datetime\n",
        "\n",
        "#現在の日付を取得してファイル名に追加\n",
        "current_date = datetime.now().strftime('%Y%m%d')\n",
        "file_name = f\"請求書_{current_date}.xlsx\"\n",
        "\n",
        "#商品データをリストで定義(商品名、数量、単価)\n",
        "products = [\n",
        "    (\"商品名A\",2,10000),\n",
        "    (\"商品名B\",1,15000),\n",
        "]\n",
        "\n",
        "#新しいワークブックを作成\n",
        "wb = Workbook()\n",
        "ws = wb.active\n",
        "\n",
        "#シート名を設定\n",
        "ws.title = \"請求書\"\n",
        "\n",
        "#セルにデータを書き込む\n",
        "ws[\"B2\"]=\"請求書\"\n",
        "ws[\"B2\"].font = Font(size=16, bold=True)\n",
        "\n",
        "#会社情報\n",
        "ws[\"B4\"]=\"株式会社ABC\"\n",
        "ws[\"B5\"]=\"〒101-0022 東京都千代田区神田練塀町300\"\n",
        "ws[\"B6\"]=\"TEL:03-1234-5678 FAX:03-1234-5678\"\n",
        "ws[\"B7\"]=\"担当者名:鈴木一郎 様\"\n",
        "\n",
        "#請求番号と日付\n",
        "ws[\"F4\"]=\"No.\"\n",
        "ws[\"G4\"]=\"0001\"\n",
        "ws[\"F5\"]=\"日付\"\n",
        "ws[\"G5\"]=datetime.now().strftime('%Y/%m/%d')\n",
        "\n",
        "#商品明細ヘッダー\n",
        "ws[\"B10\"]=\"商品名\"\n",
        "ws[\"C10\"]=\"数量\"\n",
        "ws[\"D10\"]=\"単価\"\n",
        "ws[\"E10\"]=\"金額\"\n",
        "\n",
        "#商品明細データ(enumerateを使ったLoop処理)\n",
        "start_row = 11 #データの開始行\n",
        "for idx, (name, quantity, unit_price) in enumerate (products):\n",
        "  row = start_row + idx\n",
        "  ws[f\"B{row}\"]=name #商品名\n",
        "  ws[f\"C{row}\"]=quantity #数量\n",
        "  ws[f\"D{row}\"]=unit_price #単価\n",
        "  ws[f\"E{row}\"]=f\"=C{row}*D{row}\"#金額計算式\n",
        "\n",
        "#小計、消費税、合計\n",
        "subtotal_row = start_row + len(products) #小計の行番号\n",
        "ws[f\"D{subtotal_row}\"]=\"小計\"\n",
        "ws[f\"E{subtotal_row}\"]=f\"=SUM(E{start_row}:E{subtotal_row - 1})\"\n",
        "\n",
        "tax_row = subtotal_row + 1 #消費税の行番号\n",
        "ws[f\"D{tax_row}\"]=\"消費税\"\n",
        "ws[f\"E{tax_row}\"] = f\"=E{subtotal_row}*0.1\"\n",
        "\n",
        "\n",
        "total_row = tax_row +1 #合計の行番号\n",
        "ws[f\"D{total_row}\"]=\"合計\"\n",
        "ws[f\"E{total_row}\"]=f\"=E{subtotal_row}+E{tax_row}\"\n",
        "\n",
        "#セルの整列設定\n",
        "alignment_center = Alignment(horizontal=\"center\", vertical= \"center\")\n",
        "\n",
        "for row in ws.iter_rows(min_row =10, max_row=total_row, min_col=2, max_col=5):\n",
        "  for cell in row:\n",
        "    cell.alignment=alignment_center\n",
        "\n",
        "#枠線の設定\n",
        "thin_border=Border(\n",
        "    left=Side(style=\"thin\"),\n",
        "    right=Side(style=\"thin\"),\n",
        "    top=Side(style=\"thin\"),\n",
        "    bottom=Side(style=\"thin\"),\n",
        ")\n",
        "\n",
        "for row in ws.iter_rows(min_row=10, max_row=total_row, min_col=2, max_col=5):\n",
        "  for cell in row:\n",
        "    cell.border=thin_border\n",
        "\n",
        "#列幅の調整\n",
        "ws.column_dimensions[\"B\"].width = 15\n",
        "ws.column_dimensions[\"C\"].width = 10\n",
        "ws.column_dimensions[\"D\"].width = 10\n",
        "ws.column_dimensions[\"E\"].width = 15\n",
        "ws.column_dimensions[\"F\"].width = 10\n",
        "ws.column_dimensions[\"G\"].width = 15\n",
        "\n",
        "#ファイルを保存\n",
        "wb.save(file_name)\n",
        "\n",
        "print(f\"{file_name}を作成しました！\")\n",
        "\n",
        "\n",
        "\n",
        "\n",
        "\n",
        "\n",
        "\n"
      ],
      "metadata": {
        "colab": {
          "base_uri": "https://localhost:8080/"
        },
        "id": "VzgkMq5U_Ms-",
        "outputId": "39715129-5e0c-4a43-b716-78af62709ab1"
      },
      "execution_count": null,
      "outputs": [
        {
          "output_type": "stream",
          "name": "stdout",
          "text": [
            "請求書_20241227.xlsxを作成しました！\n"
          ]
        }
      ]
    }
  ]
}